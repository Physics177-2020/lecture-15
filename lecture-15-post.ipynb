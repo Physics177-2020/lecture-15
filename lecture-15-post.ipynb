{
 "cells": [
  {
   "cell_type": "markdown",
   "metadata": {
    "colab_type": "text",
    "id": "FpmOCSAUPXXP"
   },
   "source": [
    "# Lecture 15: Convex optimization\n",
    "\n",
    "[Convex optimization](https://en.wikipedia.org/wiki/Convex_optimization) methods are designed to find the minima of [convex functions](https://en.wikipedia.org/wiki/Convex_function). A function $f(\\underline{x})$ is convex if\n",
    "\n",
    "$$\n",
    "f(\\alpha \\underline{x} + \\beta \\underline{y}) \\leq \\alpha f(\\underline{x}) + \\beta f(\\underline{y})\\,.\n",
    "$$\n",
    "\n",
    "A function is convex if its second derivative is always non-negative (or, in the multidimensional case, if all the eigenvalues of the matrix of second derivatives are non-negative).\n",
    "\n",
    "While finding the minimum of a convex function can be challenging, it is simpler than minimizing an arbitrary function because any local minimum of a convex function is also a global minimum.\n",
    "\n",
    "\n",
    "# Steepest descent\n",
    "\n",
    "The simplest approach to minimizing a convex function is called the [steepest descent](https://en.wikipedia.org/wiki/Gradient_descent) method, sometimes also referred to as gradient descent. In this method, we start at some initial value of the parameters $\\underline{x}_0$. We then iterate through the following steps:\n",
    "\n",
    "1. Compute the direction of steepest descent $\\underline{s}$, given by the derivative $\\underline{s} = -\\nabla f(\\underline{x}_k)$\n",
    "2. Choose a distance $t$ to step along this direction\n",
    "3. Update the parameters $\\underline{x}_{k+1} = \\underline{x}_k + t \\underline{s}$\n",
    "\n",
    "This processs continues until the derivative $\\nabla f(\\underline{x})$ becomes very small, suggesting that we are close to the minimum of the function.\n",
    "\n",
    "### Example: Steepest descent optimization of a quadratic function\n",
    "\n",
    "Let's apply steepest descent in a simple example. For example, we can consider a quadratic function of a single variable\n",
    "\n",
    "$$\n",
    "f(x) = a x^2 + bx + c\\,,\n",
    "$$\n",
    "\n",
    "with $a>0$. First, we can simply plot the function and observe where the minimum lies."
   ]
  },
  {
   "cell_type": "code",
   "execution_count": 1,
   "metadata": {
    "colab": {
     "base_uri": "https://localhost:8080/",
     "height": 283
    },
    "colab_type": "code",
    "id": "pMuJpQZmPXXR",
    "outputId": "6d190963-855b-4398-b1d2-6d6f6235b54b"
   },
   "outputs": [
    {
     "data": {
      "image/png": "[encoded data removed]",
      "text/plain": [
       "<Figure size 432x288 with 1 Axes>"
      ]
     },
     "metadata": {
      "tags": []
     },
     "output_type": "display_data"
    }
   ],
   "source": [
    "import numpy as np\n",
    "import seaborn as sns\n",
    "import matplotlib.pyplot as plt\n",
    "\n",
    "\n",
    "# Define the quadratic function\n",
    "\n",
    "a =  2\n",
    "b = -1\n",
    "c =  0\n",
    "\n",
    "def f(x):\n",
    "    return a*x**2 + b*x + c\n",
    "\n",
    "\n",
    "# Plot the function\n",
    "\n",
    "x_values = np.arange(-3.5, 4, 0.01)\n",
    "y_values = f(x_values)\n",
    "\n",
    "sns.lineplot(x_values, y_values)\n",
    "plt.xlabel('$x$')\n",
    "plt.ylabel('$f(x)$');"
   ]
  },
  {
   "cell_type": "code",
   "execution_count": 0,
   "metadata": {
    "colab": {},
    "colab_type": "code",
    "id": "jLT19XYfPXXU"
   },
   "outputs": [],
   "source": [
    "\n",
    "\n",
    "\n",
    "\n",
    "\n",
    "\n",
    "\n",
    "\n",
    "\n",
    "\n",
    "\n",
    "\n",
    "\n",
    "\n",
    "\n",
    "\n",
    "\n",
    "\n",
    "\n",
    "\n",
    "\n",
    "\n"
   ]
  },
  {
   "cell_type": "markdown",
   "metadata": {
    "colab_type": "text",
    "id": "RhvnFib4PXXa"
   },
   "source": [
    "In this simple case we can also work out the minimum analytically. Setting the derivative \n",
    "\n",
    "$$\n",
    "\\nabla f(x) = 2ax + b = 0\\,,\n",
    "$$\n",
    "\n",
    "we find that the minimum lies at $-b/2a$. We know that this point is a minimum because the function is strictly convex. Above we chose $a=2$, $b=-1$, and $c=0$, so the minimum is located at $x^* = 1/4$.\n",
    "\n",
    "Now, let's step through the steepest descent algorithm. \n",
    "\n",
    "### Step 1. Compute the step direction\n",
    "\n",
    "In the code below we will compute the step direction for steepest descent. We'll start by defining a function for the derivative."
   ]
  },
  {
   "cell_type": "code",
   "execution_count": 3,
   "metadata": {
    "colab": {
     "base_uri": "https://localhost:8080/",
     "height": 35
    },
    "colab_type": "code",
    "id": "5bcNkwSKPXXc",
    "outputId": "ec16ea77-9c6c-4c13-f235-3d5f93bc542b"
   },
   "outputs": [
    {
     "name": "stdout",
     "output_type": "stream",
     "text": [
      "-11\n"
     ]
    }
   ],
   "source": [
    "def df(x):\n",
    "    \"\"\" Returns the derivative of the quadratic function f(x) = a x^2 + b x + c\"\"\"\n",
    "    return 2*a*x + b # FILL THIS IN\n",
    "\n",
    "\n",
    "# Choose the step direction\n",
    "\n",
    "x0 = 3  # Starting value for x\n",
    "x  = x0\n",
    "s  = -df(x)   # FILL THIS IN\n",
    "print(s)"
   ]
  },
  {
   "cell_type": "code",
   "execution_count": 0,
   "metadata": {
    "colab": {},
    "colab_type": "code",
    "id": "N7XGKVqhPXXf"
   },
   "outputs": [],
   "source": [
    "\n",
    "\n",
    "\n",
    "\n",
    "\n",
    "\n",
    "\n",
    "\n",
    "\n",
    "\n",
    "\n",
    "\n",
    "\n",
    "\n",
    "\n",
    "\n",
    "\n",
    "\n",
    "\n",
    "\n",
    "\n",
    "\n"
   ]
  },
  {
   "cell_type": "markdown",
   "metadata": {
    "colab_type": "text",
    "id": "zP3m3NkePXXi"
   },
   "source": [
    "### Step 2. Choose the step length\n",
    "\n",
    "In this case, since our problem is one-dimensional the \"step direction\" is very simple -- we just need to choose whether $x$ should increase or decrease, which we determined above based on the derivative.\n",
    "\n",
    "But now that we have the direction, how far should we step? We'll talk more about choosing the step length intelligently during the next lecture. For the moment, though, let's simply choose a small $t = 0.1$ for our step size.\n",
    "\n",
    "### Step 3. Update the parameters\n",
    "\n",
    "The last step in the steepest descent algorithm is to update the parameters. We'll also check for convergence to the minimum by looking at the size of the derivative,\n",
    "\n",
    "$$\n",
    "\\left|\\nabla f(x)\\right| < \\epsilon\\,,\n",
    "$$\n",
    "\n",
    "for some suitably small value of $\\epsilon$.\n",
    "\n",
    "**Exercise**: Fill in the code below to find the minimum of $f(x)$ by steepest descent. We'll start at $x_0=3$."
   ]
  },
  {
   "cell_type": "code",
   "execution_count": 4,
   "metadata": {
    "colab": {
     "base_uri": "https://localhost:8080/",
     "height": 413
    },
    "colab_type": "code",
    "id": "YJGuOysIPXXk",
    "outputId": "bd738456-dc24-4762-9d0d-12fbe00edc39",
    "scrolled": false
   },
   "outputs": [
    {
     "name": "stdout",
     "output_type": "stream",
     "text": [
      "iter\tx\tdf/dx\n",
      "0\t3.0000\t11.0000\n",
      "1\t1.9000\t6.6000\n",
      "2\t1.2400\t3.9600\n",
      "3\t0.8440\t2.3760\n",
      "4\t0.6064\t1.4256\n",
      "5\t0.4638\t0.8554\n",
      "6\t0.3783\t0.5132\n",
      "7\t0.3270\t0.3079\n",
      "8\t0.2962\t0.1848\n",
      "9\t0.2777\t0.1109\n",
      "10\t0.2666\t0.0665\n",
      "11\t0.2600\t0.0399\n",
      "12\t0.2560\t0.0239\n",
      "13\t0.2536\t0.0144\n",
      "14\t0.2522\t0.0086\n",
      "15\t0.2513\t0.0052\n",
      "16\t0.2508\t0.0031\n",
      "17\t0.2505\t0.0019\n",
      "18\t0.2503\t0.0011\n",
      "\n",
      "Found the minimum near x* = 0.250168, true minimum is 0.25\n"
     ]
    }
   ],
   "source": [
    "epsilon  = 0.001  # Stopping condition -- end when |df/dx| < epsilon \n",
    "max_iter = 100    # Maximum number of iterations\n",
    "it       = 0      # Current iteration\n",
    "\n",
    "x0   = 3      # Starting value of parameter\n",
    "x    = x0     # Current value of the parameter\n",
    "dfdx = df(x0) # Starting value of the derivative df/dx\n",
    "\n",
    "# Report status\n",
    "print('iter\\tx\\tdf/dx')\n",
    "\n",
    "# Now loop through the steepest descent algorithm\n",
    "\n",
    "while np.fabs(dfdx)>=epsilon and it<max_iter:\n",
    "    \n",
    "    # Report status\n",
    "    print('%d\\t%.4f\\t%.4f' % (it, x, dfdx))\n",
    "    \n",
    "    # Choose the step direction\n",
    "    s = -df(x) # FILL THIS IN\n",
    "    \n",
    "    # Choose how far to step in that direction\n",
    "    t  = 0.1\n",
    "    \n",
    "    # Update the parameters\n",
    "    x += t*s # FILL THIS IN\n",
    "    \n",
    "    # Update the derivative\n",
    "    dfdx = df(x) # FILL THIS IN\n",
    "    \n",
    "    # Update the iteration counter\n",
    "    it += 1\n",
    "    \n",
    "# Report the minimum\n",
    "print('\\nFound the minimum near x* = %lf, true minimum is 0.25' % x)"
   ]
  },
  {
   "cell_type": "code",
   "execution_count": 0,
   "metadata": {
    "colab": {},
    "colab_type": "code",
    "id": "M-swi_H1PXXp"
   },
   "outputs": [],
   "source": [
    "\n",
    "\n",
    "\n",
    "\n",
    "\n",
    "\n",
    "\n",
    "\n",
    "\n",
    "\n",
    "\n",
    "\n",
    "\n",
    "\n",
    "\n",
    "\n",
    "\n",
    "\n",
    "\n",
    "\n",
    "\n",
    "\n"
   ]
  },
  {
   "cell_type": "markdown",
   "metadata": {
    "colab_type": "text",
    "id": "bvRbcRL1PXXr"
   },
   "source": [
    "### Possible issues\n",
    "\n",
    "What happens if we don't choose the step size well? Let's copy the code from above and retry it with $t=1$."
   ]
  },
  {
   "cell_type": "code",
   "execution_count": 8,
   "metadata": {
    "colab": {
     "base_uri": "https://localhost:8080/",
     "height": 1871
    },
    "colab_type": "code",
    "id": "BwPOYElDPXXs",
    "outputId": "da9bd6be-48f8-4ffd-9117-580d3b70fd77",
    "scrolled": false
   },
   "outputs": [
    {
     "name": "stdout",
     "output_type": "stream",
     "text": [
      "iter\tx\tdf/dx\n",
      "0\t3.0000\t11.0000\n",
      "1\t-2.5000\t-11.0000\n",
      "2\t3.0000\t11.0000\n",
      "3\t-2.5000\t-11.0000\n",
      "4\t3.0000\t11.0000\n",
      "5\t-2.5000\t-11.0000\n",
      "6\t3.0000\t11.0000\n",
      "7\t-2.5000\t-11.0000\n",
      "8\t3.0000\t11.0000\n",
      "9\t-2.5000\t-11.0000\n",
      "10\t3.0000\t11.0000\n",
      "11\t-2.5000\t-11.0000\n",
      "12\t3.0000\t11.0000\n",
      "13\t-2.5000\t-11.0000\n",
      "14\t3.0000\t11.0000\n",
      "15\t-2.5000\t-11.0000\n",
      "16\t3.0000\t11.0000\n",
      "17\t-2.5000\t-11.0000\n",
      "18\t3.0000\t11.0000\n",
      "19\t-2.5000\t-11.0000\n",
      "20\t3.0000\t11.0000\n",
      "21\t-2.5000\t-11.0000\n",
      "22\t3.0000\t11.0000\n",
      "23\t-2.5000\t-11.0000\n",
      "24\t3.0000\t11.0000\n",
      "25\t-2.5000\t-11.0000\n",
      "26\t3.0000\t11.0000\n",
      "27\t-2.5000\t-11.0000\n",
      "28\t3.0000\t11.0000\n",
      "29\t-2.5000\t-11.0000\n",
      "30\t3.0000\t11.0000\n",
      "31\t-2.5000\t-11.0000\n",
      "32\t3.0000\t11.0000\n",
      "33\t-2.5000\t-11.0000\n",
      "34\t3.0000\t11.0000\n",
      "35\t-2.5000\t-11.0000\n",
      "36\t3.0000\t11.0000\n",
      "37\t-2.5000\t-11.0000\n",
      "38\t3.0000\t11.0000\n",
      "39\t-2.5000\t-11.0000\n",
      "40\t3.0000\t11.0000\n",
      "41\t-2.5000\t-11.0000\n",
      "42\t3.0000\t11.0000\n",
      "43\t-2.5000\t-11.0000\n",
      "44\t3.0000\t11.0000\n",
      "45\t-2.5000\t-11.0000\n",
      "46\t3.0000\t11.0000\n",
      "47\t-2.5000\t-11.0000\n",
      "48\t3.0000\t11.0000\n",
      "49\t-2.5000\t-11.0000\n",
      "50\t3.0000\t11.0000\n",
      "51\t-2.5000\t-11.0000\n",
      "52\t3.0000\t11.0000\n",
      "53\t-2.5000\t-11.0000\n",
      "54\t3.0000\t11.0000\n",
      "55\t-2.5000\t-11.0000\n",
      "56\t3.0000\t11.0000\n",
      "57\t-2.5000\t-11.0000\n",
      "58\t3.0000\t11.0000\n",
      "59\t-2.5000\t-11.0000\n",
      "60\t3.0000\t11.0000\n",
      "61\t-2.5000\t-11.0000\n",
      "62\t3.0000\t11.0000\n",
      "63\t-2.5000\t-11.0000\n",
      "64\t3.0000\t11.0000\n",
      "65\t-2.5000\t-11.0000\n",
      "66\t3.0000\t11.0000\n",
      "67\t-2.5000\t-11.0000\n",
      "68\t3.0000\t11.0000\n",
      "69\t-2.5000\t-11.0000\n",
      "70\t3.0000\t11.0000\n",
      "71\t-2.5000\t-11.0000\n",
      "72\t3.0000\t11.0000\n",
      "73\t-2.5000\t-11.0000\n",
      "74\t3.0000\t11.0000\n",
      "75\t-2.5000\t-11.0000\n",
      "76\t3.0000\t11.0000\n",
      "77\t-2.5000\t-11.0000\n",
      "78\t3.0000\t11.0000\n",
      "79\t-2.5000\t-11.0000\n",
      "80\t3.0000\t11.0000\n",
      "81\t-2.5000\t-11.0000\n",
      "82\t3.0000\t11.0000\n",
      "83\t-2.5000\t-11.0000\n",
      "84\t3.0000\t11.0000\n",
      "85\t-2.5000\t-11.0000\n",
      "86\t3.0000\t11.0000\n",
      "87\t-2.5000\t-11.0000\n",
      "88\t3.0000\t11.0000\n",
      "89\t-2.5000\t-11.0000\n",
      "90\t3.0000\t11.0000\n",
      "91\t-2.5000\t-11.0000\n",
      "92\t3.0000\t11.0000\n",
      "93\t-2.5000\t-11.0000\n",
      "94\t3.0000\t11.0000\n",
      "95\t-2.5000\t-11.0000\n",
      "96\t3.0000\t11.0000\n",
      "97\t-2.5000\t-11.0000\n",
      "98\t3.0000\t11.0000\n",
      "99\t-2.5000\t-11.0000\n",
      "\n",
      "Found the minimum near x* = 3.000000, true minimum is 0.25\n"
     ]
    }
   ],
   "source": [
    "epsilon  = 0.001  # Stopping condition -- end when |df/dx| < epsilon \n",
    "max_iter = 100    # Maximum number of iterations\n",
    "it       = 0      # Current iteration\n",
    "\n",
    "x0   = 3      # Starting value of parameter\n",
    "x    = x0     # Current value of the parameter\n",
    "dfdx = df(x0) # Starting value of the derivative df/dx\n",
    "\n",
    "# Report status\n",
    "print('iter\\tx\\tdf/dx')\n",
    "\n",
    "# Now loop through the steepest descent algorithm\n",
    "\n",
    "while np.fabs(dfdx)>=epsilon and it<max_iter:\n",
    "    \n",
    "    # Report status\n",
    "    print('%d\\t%.4f\\t%.4f' % (it, x, dfdx))\n",
    "    \n",
    "    # Choose the step direction\n",
    "    s = -df(x) # FILL THIS IN\n",
    "    \n",
    "    # Choose how far to step in that direction\n",
    "    t  = 0.5\n",
    "    \n",
    "    # Update the parameters\n",
    "    x += t*s # FILL THIS IN\n",
    "    \n",
    "    # Update the derivative\n",
    "    dfdx = df(x) # FILL THIS IN\n",
    "    \n",
    "    # Update the iteration counter\n",
    "    it += 1\n",
    "    \n",
    "# Report the minimum\n",
    "print('\\nFound the minimum near x* = %lf, true minimum is 0.25' % x)"
   ]
  },
  {
   "cell_type": "markdown",
   "metadata": {
    "colab_type": "text",
    "id": "hhps-KAmPXXv"
   },
   "source": [
    "**Oh no!** These kind of traps are surprisingly easy to fall into in optimization. Next time we'll talk about methods that can avoid them."
   ]
  }
 ],
 "metadata": {
  "colab": {
   "name": "lecture-15.ipynb",
   "provenance": [],
   "version": "0.3.2"
  },
  "kernelspec": {
   "display_name": "Python 3",
   "language": "python",
   "name": "python3"
  },
  "language_info": {
   "codemirror_mode": {
    "name": "ipython",
    "version": 3
   },
   "file_extension": ".py",
   "mimetype": "text/x-python",
   "name": "python",
   "nbconvert_exporter": "python",
   "pygments_lexer": "ipython3",
   "version": "3.7.7"
  }
 },
 "nbformat": 4,
 "nbformat_minor": 1
}
